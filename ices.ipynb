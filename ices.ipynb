{
 "cells": [
  {
   "cell_type": "code",
   "execution_count": 1,
   "metadata": {},
   "outputs": [],
   "source": [
    "# Load the TensorBoard notebook extension\n",
    "%load_ext tensorboard\n",
    "\n",
    "from tensorflow.keras.layers import Dense, Flatten, Input, Conv2D, MaxPooling2D, Dropout\n",
    "from tensorflow.keras.models import Model, Sequential\n",
    "from osgeo import osr, ogr, gdal\n",
    "from tqdm import tqdm\n",
    "from PIL import Image\n",
    "\n",
    "import matplotlib.pyplot as plt\n",
    "import tensorflow as tf\n",
    "import pandas as pd\n",
    "import datetime, os\n",
    "import numpy as np\n",
    "\n",
    "import tensorflow.keras"
   ]
  },
  {
   "cell_type": "code",
   "execution_count": 2,
   "metadata": {},
   "outputs": [],
   "source": [
    "# Параметры\n",
    "path_train = \"files 3/train_3.png\" \n",
    "path_target = \"files 3/target_3.png\" \n",
    "\n",
    "size = 32"
   ]
  },
  {
   "cell_type": "code",
   "execution_count": 3,
   "metadata": {},
   "outputs": [],
   "source": [
    "def split_image(path, size, save_path=None):\n",
    "    img = Image.open(path).convert('L') \n",
    "    x, y = img.size  # ширина (x) и высота (y) изображения\n",
    "    \n",
    "    x = x // size\n",
    "    y = y // size\n",
    "\n",
    "    all_data = [] \n",
    "\n",
    "    for i in tqdm(range(x)):\n",
    "        for j in range(y): \n",
    "            mini_image = img.crop(box=(size * i, size * j, size * (i + 1), size * ( j + 1)))\n",
    "            if save_path:\n",
    "                mini_image.save(save_path + 'image{}.png'.format(str(j + i*y)))\n",
    "\n",
    "            mini_image = np.array(mini_image.getdata())\n",
    "            mini_image = np.reshape(mini_image, (1, size, size, 1)) \n",
    "\n",
    "            if len(all_data) == 0:\n",
    "                all_data =  mini_image\n",
    "            else:\n",
    "                all_data = np.append(all_data, mini_image, axis=0)\n",
    "        \n",
    "    print(\"Data shape is\", np.shape(all_data))\n",
    "    return all_data, [x, y]"
   ]
  },
  {
   "cell_type": "code",
   "execution_count": 4,
   "metadata": {},
   "outputs": [
    {
     "name": "stderr",
     "output_type": "stream",
     "text": [
      "100%|██████████| 27/27 [00:00<00:00, 192.76it/s]"
     ]
    },
    {
     "name": "stdout",
     "output_type": "stream",
     "text": [
      "Data shape is (378, 32, 32, 1)\n"
     ]
    },
    {
     "name": "stderr",
     "output_type": "stream",
     "text": [
      "\n"
     ]
    }
   ],
   "source": [
    "# Split target data\n",
    "target, target_size = split_image(path_target, size)"
   ]
  },
  {
   "cell_type": "code",
   "execution_count": 5,
   "metadata": {},
   "outputs": [
    {
     "name": "stderr",
     "output_type": "stream",
     "text": [
      "100%|██████████| 27/27 [00:00<00:00, 263.91it/s]"
     ]
    },
    {
     "name": "stdout",
     "output_type": "stream",
     "text": [
      "Data shape is (378, 32, 32, 1)\n"
     ]
    },
    {
     "name": "stderr",
     "output_type": "stream",
     "text": [
      "\n"
     ]
    }
   ],
   "source": [
    "# Split train data\n",
    "train, train_size = split_image(path_train, size)"
   ]
  },
  {
   "cell_type": "code",
   "execution_count": 6,
   "metadata": {},
   "outputs": [
    {
     "name": "stdout",
     "output_type": "stream",
     "text": [
      "0 192\n",
      "0 255\n"
     ]
    }
   ],
   "source": [
    "print(train.min(), train.max())\n",
    "print(target.min(), target.max())"
   ]
  },
  {
   "cell_type": "code",
   "execution_count": 7,
   "metadata": {},
   "outputs": [],
   "source": [
    "target = target / 255.0 \n",
    "train = train / train.max()"
   ]
  },
  {
   "cell_type": "code",
   "execution_count": 8,
   "metadata": {},
   "outputs": [],
   "source": [
    "target = np.reshape(target, (-1, size*size)) "
   ]
  },
  {
   "cell_type": "code",
   "execution_count": 9,
   "metadata": {},
   "outputs": [
    {
     "data": {
      "text/plain": [
       "0.01605760472094104"
      ]
     },
     "execution_count": 9,
     "metadata": {},
     "output_type": "execute_result"
    }
   ],
   "source": [
    "unique, counts = np.unique(target, return_counts=True)\n",
    "all = dict(zip(unique, counts))\n",
    "all[1.0] / all[0.0]"
   ]
  },
  {
   "cell_type": "code",
   "execution_count": 10,
   "metadata": {},
   "outputs": [],
   "source": [
    "inp = Input(shape=(size, size, 1))\n",
    "x = Conv2D(256, (14,14), padding='same', activation=tf.nn.relu) (inp)\n",
    "x = MaxPooling2D((2, 2), strides=2)(x)\n",
    "x = Conv2D(128, (9,9), padding='same', activation=tf.nn.relu)(x)\n",
    "x = MaxPooling2D((2, 2), strides=2)(x)\n",
    "x = Conv2D(90, (7,7), padding='same', activation=tf.nn.relu)(x)\n",
    "x = MaxPooling2D((2, 2), strides=2)(x)\n",
    "x = Flatten()(x)\n",
    "x = Dense(130, activation=tf.nn.relu)(x) \n",
    "x = Dropout(0.5)(x)\n",
    "x = Dense(130, activation=tf.nn.relu)(x) \n",
    "x = Dropout(0.5)(x)\n",
    "out = Dense(size*size,  activation=tf.nn.softmax)(x)\n",
    "\n",
    "model = Model(inputs=inp, outputs=out)"
   ]
  },
  {
   "cell_type": "code",
   "execution_count": 11,
   "metadata": {},
   "outputs": [],
   "source": [
    "model = Sequential([\n",
    "    Conv2D(512, (7,7), padding='same', activation=tf.nn.relu,\n",
    "                           input_shape=(size, size, 1)),\n",
    "    MaxPooling2D((2, 2), strides=2),\n",
    "    Conv2D(256, (5,5), padding='same', activation=tf.nn.relu), \n",
    "    MaxPooling2D((2, 2), strides=2), \n",
    "    Flatten(),\n",
    "    Dense(130, activation=tf.nn.relu),\n",
    "#     Linear(),\n",
    "    Dense(130, activation=tf.nn.relu),\n",
    "    Dense(size*size,  activation=tf.nn.softmax, dtype='float64')\n",
    "])\n"
   ]
  },
  {
   "cell_type": "code",
   "execution_count": 12,
   "metadata": {},
   "outputs": [],
   "source": [
    "from tensorflow.keras.optimizers import Adam\n",
    "opt = Adam(learning_rate=0.1)"
   ]
  },
  {
   "cell_type": "code",
   "execution_count": 13,
   "metadata": {},
   "outputs": [],
   "source": [
    "model.compile(optimizer=opt,\n",
    "              loss='binary_crossentropy',       # categorical_crossentropy, mean_squared_error, binary_crossentropy\n",
    "              metrics=['binary_accuracy'])"
   ]
  },
  {
   "cell_type": "code",
   "execution_count": 14,
   "metadata": {},
   "outputs": [],
   "source": [
    "logdir = os.path.join(\"logs\", datetime.datetime.now().strftime(\"%Y%m%d-%H%M%S\"))\n",
    "tensorboard_callback = tf.keras.callbacks.TensorBoard(logdir, histogram_freq=1)"
   ]
  },
  {
   "cell_type": "code",
   "execution_count": 15,
   "metadata": {},
   "outputs": [
    {
     "name": "stdout",
     "output_type": "stream",
     "text": [
      "Epoch 1/30\n",
      "12/12 [==============================] - 4s 157ms/step - loss: 0.2269 - binary_accuracy: 0.9836\n",
      "Epoch 2/30\n",
      "12/12 [==============================] - 1s 49ms/step - loss: 0.2875 - binary_accuracy: 0.9813\n",
      "Epoch 3/30\n",
      "12/12 [==============================] - 1s 49ms/step - loss: 0.2325 - binary_accuracy: 0.9849\n",
      "Epoch 4/30\n",
      "12/12 [==============================] - 1s 50ms/step - loss: 0.2894 - binary_accuracy: 0.9812\n",
      "Epoch 5/30\n",
      "12/12 [==============================] - 1s 49ms/step - loss: 0.2170 - binary_accuracy: 0.9859\n",
      "Epoch 6/30\n",
      "12/12 [==============================] - 1s 49ms/step - loss: 0.2161 - binary_accuracy: 0.9859\n",
      "Epoch 7/30\n",
      "12/12 [==============================] - 1s 50ms/step - loss: 0.2290 - binary_accuracy: 0.9851\n",
      "Epoch 8/30\n",
      "12/12 [==============================] - 1s 49ms/step - loss: 0.2538 - binary_accuracy: 0.9835\n",
      "Epoch 9/30\n",
      "12/12 [==============================] - 1s 49ms/step - loss: 0.2423 - binary_accuracy: 0.9843\n",
      "Epoch 10/30\n",
      "12/12 [==============================] - 1s 49ms/step - loss: 0.2980 - binary_accuracy: 0.9806\n",
      "Epoch 11/30\n",
      "12/12 [==============================] - 1s 48ms/step - loss: 0.3065 - binary_accuracy: 0.9801\n",
      "Epoch 12/30\n",
      "12/12 [==============================] - 1s 47ms/step - loss: 0.2930 - binary_accuracy: 0.9810\n",
      "Epoch 13/30\n",
      "12/12 [==============================] - 1s 48ms/step - loss: 0.3201 - binary_accuracy: 0.9792\n",
      "Epoch 14/30\n",
      "12/12 [==============================] - 1s 47ms/step - loss: 0.2448 - binary_accuracy: 0.9841\n",
      "Epoch 15/30\n",
      "12/12 [==============================] - 1s 50ms/step - loss: 0.2881 - binary_accuracy: 0.9813\n",
      "Epoch 16/30\n",
      "12/12 [==============================] - 1s 48ms/step - loss: 0.2500 - binary_accuracy: 0.9838\n",
      "Epoch 17/30\n",
      "12/12 [==============================] - 1s 48ms/step - loss: 0.2068 - binary_accuracy: 0.9866\n",
      "Epoch 18/30\n",
      "12/12 [==============================] - 1s 48ms/step - loss: 0.3002 - binary_accuracy: 0.9805\n",
      "Epoch 19/30\n",
      "12/12 [==============================] - 1s 48ms/step - loss: 0.2146 - binary_accuracy: 0.9861\n",
      "Epoch 20/30\n",
      "12/12 [==============================] - 1s 48ms/step - loss: 0.2390 - binary_accuracy: 0.9845\n",
      "Epoch 21/30\n",
      "12/12 [==============================] - 1s 48ms/step - loss: 0.3029 - binary_accuracy: 0.9803\n",
      "Epoch 22/30\n",
      "12/12 [==============================] - 1s 48ms/step - loss: 0.2004 - binary_accuracy: 0.9870\n",
      "Epoch 23/30\n",
      "12/12 [==============================] - 1s 48ms/step - loss: 0.2320 - binary_accuracy: 0.9849\n",
      "Epoch 24/30\n",
      "12/12 [==============================] - 1s 48ms/step - loss: 0.2144 - binary_accuracy: 0.9861\n",
      "Epoch 25/30\n",
      "12/12 [==============================] - 1s 47ms/step - loss: 0.2661 - binary_accuracy: 0.9827\n",
      "Epoch 26/30\n",
      "12/12 [==============================] - 1s 48ms/step - loss: 0.2105 - binary_accuracy: 0.9863\n",
      "Epoch 27/30\n",
      "12/12 [==============================] - 1s 48ms/step - loss: 0.1823 - binary_accuracy: 0.9882\n",
      "Epoch 28/30\n",
      "12/12 [==============================] - 1s 48ms/step - loss: 0.2856 - binary_accuracy: 0.9815\n",
      "Epoch 29/30\n",
      "12/12 [==============================] - 1s 47ms/step - loss: 0.3123 - binary_accuracy: 0.9797\n",
      "Epoch 30/30\n",
      "12/12 [==============================] - 1s 48ms/step - loss: 0.2397 - binary_accuracy: 0.9844\n"
     ]
    }
   ],
   "source": [
    "his = model.fit(train, target, epochs=30, shuffle=True, \n",
    "            callbacks=[tensorboard_callback])"
   ]
  },
  {
   "cell_type": "code",
   "execution_count": 16,
   "metadata": {},
   "outputs": [
    {
     "data": {
      "text/plain": [
       "Reusing TensorBoard on port 6006 (pid 663765), started 0:09:19 ago. (Use '!kill 663765' to kill it.)"
      ]
     },
     "metadata": {},
     "output_type": "display_data"
    },
    {
     "data": {
      "text/html": [
       "\n",
       "      <iframe id=\"tensorboard-frame-f7f115f1059b4ded\" width=\"100%\" height=\"800\" frameborder=\"0\">\n",
       "      </iframe>\n",
       "      <script>\n",
       "        (function() {\n",
       "          const frame = document.getElementById(\"tensorboard-frame-f7f115f1059b4ded\");\n",
       "          const url = new URL(\"/\", window.location);\n",
       "          const port = 6006;\n",
       "          if (port) {\n",
       "            url.port = port;\n",
       "          }\n",
       "          frame.src = url;\n",
       "        })();\n",
       "      </script>\n",
       "    "
      ],
      "text/plain": [
       "<IPython.core.display.HTML object>"
      ]
     },
     "metadata": {},
     "output_type": "display_data"
    }
   ],
   "source": [
    "%tensorboard --logdir logs"
   ]
  }
 ],
 "metadata": {
  "kernelspec": {
   "display_name": "Python 3",
   "language": "python",
   "name": "python3"
  },
  "language_info": {
   "codemirror_mode": {
    "name": "ipython",
    "version": 3
   },
   "file_extension": ".py",
   "mimetype": "text/x-python",
   "name": "python",
   "nbconvert_exporter": "python",
   "pygments_lexer": "ipython3",
   "version": "3.8.6"
  }
 },
 "nbformat": 4,
 "nbformat_minor": 4
}
