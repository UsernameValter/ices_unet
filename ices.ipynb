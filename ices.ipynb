{
 "cells": [
  {
   "cell_type": "code",
   "execution_count": 1,
   "metadata": {},
   "outputs": [
    {
     "name": "stdout",
     "output_type": "stream",
     "text": [
      "INFO:tensorflow:Enabling eager execution\n",
      "INFO:tensorflow:Enabling v2 tensorshape\n",
      "INFO:tensorflow:Enabling resource variables\n",
      "INFO:tensorflow:Enabling tensor equality\n",
      "INFO:tensorflow:Enabling control flow v2\n"
     ]
    }
   ],
   "source": [
    "from keras.layers import Dense, Flatten, Input, Conv2D, MaxPooling2D, Dropout\n",
    "from keras.models import Model, Sequential\n",
    "from osgeo import osr, ogr, gdal\n",
    "from tqdm import tqdm\n",
    "from PIL import Image\n",
    "\n",
    "import matplotlib.pyplot as plt\n",
    "import tensorflow as tf\n",
    "import pandas as pd\n",
    "import numpy as np \n",
    "\n",
    "import keras"
   ]
  },
  {
   "cell_type": "code",
   "execution_count": 2,
   "metadata": {},
   "outputs": [],
   "source": [
    "# Параметры\n",
    "path_train = \"files 3/train_3.png\" \n",
    "path_target = \"files 3/target_3.png\" \n",
    "\n",
    "size = 32"
   ]
  },
  {
   "cell_type": "code",
   "execution_count": 3,
   "metadata": {},
   "outputs": [],
   "source": [
    "def split_image(path, size):\n",
    "    img = Image.open(path).convert('L') \n",
    "    x, y = img.size  # ширина (x) и высота (y) изображения\n",
    "\n",
    "    x = x // size\n",
    "    y = y // size\n",
    "\n",
    "    all = False \n",
    "\n",
    "    for i in tqdm(range(x)):\n",
    "        for j in range(y): \n",
    "            mini_image = img.crop(box=(size * i, size * j, size * (i + 1), size * ( j + 1)))\n",
    "            # mini_image.save('image{}{}.png'.format(str(i + 1), str(j + 1)))\n",
    "\n",
    "            mini_image = np.array(mini_image.getdata())\n",
    "            mini_image = np.reshape(mini_image, (1, size, size, 1)) \n",
    "\n",
    "            if i == 0 and j == 0:# переделать покрасивее потом\n",
    "                all =  mini_image\n",
    "            else:\n",
    "                all = np.append(all, mini_image, axis=0) \n",
    "    print(np.shape(all)) \n",
    "    return all, [x, y]"
   ]
  },
  {
   "cell_type": "code",
   "execution_count": 4,
   "metadata": {},
   "outputs": [
    {
     "name": "stderr",
     "output_type": "stream",
     "text": [
      "100%|██████████| 27/27 [00:00<00:00, 144.12it/s]"
     ]
    },
    {
     "name": "stdout",
     "output_type": "stream",
     "text": [
      "(378, 32, 32, 1)\n"
     ]
    },
    {
     "name": "stderr",
     "output_type": "stream",
     "text": [
      "\n"
     ]
    }
   ],
   "source": [
    "target, target_size = split_image(path_target, size)"
   ]
  },
  {
   "cell_type": "code",
   "execution_count": 5,
   "metadata": {},
   "outputs": [
    {
     "name": "stderr",
     "output_type": "stream",
     "text": [
      "100%|██████████| 27/27 [00:00<00:00, 229.83it/s]"
     ]
    },
    {
     "name": "stdout",
     "output_type": "stream",
     "text": [
      "(378, 32, 32, 1)\n"
     ]
    },
    {
     "name": "stderr",
     "output_type": "stream",
     "text": [
      "\n"
     ]
    }
   ],
   "source": [
    "train, train_size = split_image(path_train, size)"
   ]
  },
  {
   "cell_type": "code",
   "execution_count": null,
   "metadata": {},
   "outputs": [],
   "source": []
  },
  {
   "cell_type": "code",
   "execution_count": 89,
   "metadata": {},
   "outputs": [
    {
     "data": {
      "text/plain": [
       "192"
      ]
     },
     "execution_count": 89,
     "metadata": {},
     "output_type": "execute_result"
    }
   ],
   "source": [
    "train.max()"
   ]
  },
  {
   "cell_type": "code",
   "execution_count": 9,
   "metadata": {},
   "outputs": [
    {
     "data": {
      "text/plain": [
       "1.0"
      ]
     },
     "execution_count": 9,
     "metadata": {},
     "output_type": "execute_result"
    }
   ],
   "source": [
    "target.max()"
   ]
  },
  {
   "cell_type": "code",
   "execution_count": 6,
   "metadata": {},
   "outputs": [],
   "source": [
    "target = target / 255.0 \n",
    "# target = (target / 127.5) - 1 \n",
    "train = train / train.max()\n",
    "# train = train / (train.max() / 2) - 1 "
   ]
  },
  {
   "cell_type": "code",
   "execution_count": 7,
   "metadata": {},
   "outputs": [],
   "source": [
    "target = np.reshape(target, (-1, size*size)) "
   ]
  },
  {
   "cell_type": "code",
   "execution_count": 7,
   "metadata": {},
   "outputs": [],
   "source": []
  },
  {
   "cell_type": "code",
   "execution_count": 22,
   "metadata": {},
   "outputs": [],
   "source": [
    "# model = Sequential([\n",
    "#     Conv2D(64, (7,7), padding='same', activation=tf.nn.relu,\n",
    "#                            input_shape=(size, size, 1)),\n",
    "#     MaxPooling2D((2, 2), strides=2), \n",
    "#     Flatten(),\n",
    "#     Dense(150, activation=tf.nn.relu),\n",
    "#     Dense(size*size,  activation=tf.nn.softmax)\n",
    "# ])\n"
   ]
  },
  {
   "cell_type": "code",
   "execution_count": 67,
   "metadata": {},
   "outputs": [
    {
     "name": "stdout",
     "output_type": "stream",
     "text": [
      "Model: \"model_5\"\n",
      "_________________________________________________________________\n",
      "Layer (type)                 Output Shape              Param #   \n",
      "=================================================================\n",
      "input_8 (InputLayer)         [(None, 32, 32, 1)]       0         \n",
      "_________________________________________________________________\n",
      "conv2d_22 (Conv2D)           (None, 32, 32, 32)        7232      \n",
      "_________________________________________________________________\n",
      "max_pooling2d_21 (MaxPooling (None, 16, 16, 32)        0         \n",
      "_________________________________________________________________\n",
      "conv2d_23 (Conv2D)           (None, 16, 16, 64)        204864    \n",
      "_________________________________________________________________\n",
      "max_pooling2d_22 (MaxPooling (None, 8, 8, 64)          0         \n",
      "_________________________________________________________________\n",
      "flatten_10 (Flatten)         (None, 4096)              0         \n",
      "_________________________________________________________________\n",
      "dense_22 (Dense)             (None, 130)               532610    \n",
      "_________________________________________________________________\n",
      "dropout_1 (Dropout)          (None, 130)               0         \n",
      "_________________________________________________________________\n",
      "dense_23 (Dense)             (None, 130)               17030     \n",
      "_________________________________________________________________\n",
      "dense_24 (Dense)             (None, 1024)              134144    \n",
      "=================================================================\n",
      "Total params: 895,880\n",
      "Trainable params: 895,880\n",
      "Non-trainable params: 0\n",
      "_________________________________________________________________\n"
     ]
    }
   ],
   "source": [
    "model.summary()"
   ]
  },
  {
   "cell_type": "code",
   "execution_count": null,
   "metadata": {},
   "outputs": [],
   "source": []
  },
  {
   "cell_type": "code",
   "execution_count": 25,
   "metadata": {},
   "outputs": [],
   "source": [
    "class Linear(keras.layers.Layer):\n",
    "    def __init__(self, units=32):\n",
    "        super(Linear, self).__init__()\n",
    "        self.units = units\n",
    "\n",
    "    def build(self, input_shape):\n",
    "        self.w = self.add_weight(\n",
    "            shape=(input_shape[-1], self.units),\n",
    "            initializer=\"random_normal\",\n",
    "            trainable=True,\n",
    "        )\n",
    "        self.b = self.add_weight(\n",
    "            shape=(self.units,), initializer=\"random_normal\", trainable=True\n",
    "        )\n",
    "\n",
    "    def call(self, inputs):\n",
    "        return tf.matmul(inputs, self.w) + self.b\n"
   ]
  },
  {
   "cell_type": "code",
   "execution_count": null,
   "metadata": {},
   "outputs": [],
   "source": [
    "class Linear(keras.layers.Layer):\n",
    "    def __init__(self, units=32):\n",
    "        super(Linear, self).__init__()\n",
    "        self.units = units\n",
    "\n",
    "    def build(self, input_shape):\n",
    "        self.w = self.add_weight(\n",
    "            shape=(input_shape[-1], self.units),\n",
    "            initializer=\"random_normal\",\n",
    "            trainable=True,\n",
    "        )\n",
    "        self.b = self.add_weight(\n",
    "            shape=(self.units,), initializer=\"random_normal\", trainable=True\n",
    "        )\n",
    "\n",
    "    def call(self, inputs):\n",
    "        return tf.matmul(inputs, self.w) + self.b\n",
    "\n",
    "    def get_config(self):\n",
    "        return {\"units\": self.units}\n"
   ]
  },
  {
   "cell_type": "code",
   "execution_count": 31,
   "metadata": {},
   "outputs": [],
   "source": [
    "class ComputeSum(keras.layers.Layer):\n",
    "    def __init__(self, input_dim):\n",
    "        super(ComputeSum, self).__init__()\n",
    "        self.total = tf.Variable(initial_value=tf.zeros((input_dim,)), trainable=False)\n",
    "\n",
    "    def call(self, inputs):\n",
    "        self.total.assign_add(tf.reduce_sum(inputs, axis=0))\n",
    "        return self.total"
   ]
  },
  {
   "cell_type": "code",
   "execution_count": null,
   "metadata": {},
   "outputs": [],
   "source": []
  },
  {
   "cell_type": "code",
   "execution_count": 24,
   "metadata": {},
   "outputs": [
    {
     "data": {
      "text/plain": [
       "<keras.layers.core.Dense at 0x7f44986756a0>"
      ]
     },
     "execution_count": 24,
     "metadata": {},
     "output_type": "execute_result"
    }
   ],
   "source": [
    "Dense(32, activation='relu')\n"
   ]
  },
  {
   "cell_type": "code",
   "execution_count": null,
   "metadata": {},
   "outputs": [],
   "source": []
  },
  {
   "cell_type": "code",
   "execution_count": null,
   "metadata": {},
   "outputs": [],
   "source": []
  },
  {
   "cell_type": "code",
   "execution_count": null,
   "metadata": {},
   "outputs": [],
   "source": []
  },
  {
   "cell_type": "code",
   "execution_count": 8,
   "metadata": {},
   "outputs": [],
   "source": [
    "inp = Input(shape=(size, size, 1))\n",
    "x = Conv2D(32, (15,15), padding='same', activation=tf.nn.relu) (inp)\n",
    "x = MaxPooling2D((2, 2), strides=2)(x)\n",
    "x = Conv2D(64, (9,9), padding='same', activation=tf.nn.relu)(x)\n",
    "x = MaxPooling2D((2, 2), strides=2)(x)\n",
    "x = Flatten()(x)\n",
    "x = Dense(130, activation=tf.nn.relu)(x) \n",
    "x = Dropout(0.5)(x)\n",
    "x = Dense(130, activation=tf.nn.relu)(x) \n",
    "x = Dropout(0.5)(x)\n",
    "\n",
    "out = Dense(size*size,  activation=tf.nn.softmax)(x)\n",
    "model = Model(inputs=inp, outputs=out)"
   ]
  },
  {
   "cell_type": "code",
   "execution_count": 32,
   "metadata": {},
   "outputs": [
    {
     "ename": "TypeError",
     "evalue": "__init__() missing 1 required positional argument: 'input_dim'",
     "output_type": "error",
     "traceback": [
      "\u001b[0;31m---------------------------------------------------------------------------\u001b[0m",
      "\u001b[0;31mTypeError\u001b[0m                                 Traceback (most recent call last)",
      "\u001b[0;32m<ipython-input-32-efa87640af4c>\u001b[0m in \u001b[0;36m<module>\u001b[0;34m\u001b[0m\n\u001b[1;32m      7\u001b[0m     \u001b[0mFlatten\u001b[0m\u001b[0;34m(\u001b[0m\u001b[0;34m)\u001b[0m\u001b[0;34m,\u001b[0m\u001b[0;34m\u001b[0m\u001b[0;34m\u001b[0m\u001b[0m\n\u001b[1;32m      8\u001b[0m     \u001b[0mDense\u001b[0m\u001b[0;34m(\u001b[0m\u001b[0;36m130\u001b[0m\u001b[0;34m,\u001b[0m \u001b[0mactivation\u001b[0m\u001b[0;34m=\u001b[0m\u001b[0mtf\u001b[0m\u001b[0;34m.\u001b[0m\u001b[0mnn\u001b[0m\u001b[0;34m.\u001b[0m\u001b[0mrelu\u001b[0m\u001b[0;34m)\u001b[0m\u001b[0;34m,\u001b[0m\u001b[0;34m\u001b[0m\u001b[0;34m\u001b[0m\u001b[0m\n\u001b[0;32m----> 9\u001b[0;31m     \u001b[0mComputeSum\u001b[0m\u001b[0;34m(\u001b[0m\u001b[0;34m)\u001b[0m\u001b[0;34m,\u001b[0m\u001b[0;34m\u001b[0m\u001b[0;34m\u001b[0m\u001b[0m\n\u001b[0m\u001b[1;32m     10\u001b[0m \u001b[0;31m#     Dense(130, activation=tf.nn.relu),\u001b[0m\u001b[0;34m\u001b[0m\u001b[0;34m\u001b[0m\u001b[0;34m\u001b[0m\u001b[0m\n\u001b[1;32m     11\u001b[0m     \u001b[0mDense\u001b[0m\u001b[0;34m(\u001b[0m\u001b[0msize\u001b[0m\u001b[0;34m*\u001b[0m\u001b[0msize\u001b[0m\u001b[0;34m,\u001b[0m  \u001b[0mactivation\u001b[0m\u001b[0;34m=\u001b[0m\u001b[0mtf\u001b[0m\u001b[0;34m.\u001b[0m\u001b[0mnn\u001b[0m\u001b[0;34m.\u001b[0m\u001b[0msoftmax\u001b[0m\u001b[0;34m)\u001b[0m\u001b[0;34m\u001b[0m\u001b[0;34m\u001b[0m\u001b[0m\n",
      "\u001b[0;31mTypeError\u001b[0m: __init__() missing 1 required positional argument: 'input_dim'"
     ]
    }
   ],
   "source": [
    "model = Sequential([\n",
    "    Conv2D(64, (15,15), padding='same', activation=tf.nn.relu,\n",
    "                           input_shape=(size, size, 1)),\n",
    "    MaxPooling2D((2, 2), strides=2),\n",
    "    Conv2D(128, (10,10), padding='same', activation=tf.nn.relu), \n",
    "    MaxPooling2D((2, 2), strides=2),\n",
    "    Flatten(),\n",
    "    Dense(130, activation=tf.nn.relu), \n",
    "#     Dense(130, activation=tf.nn.relu),\n",
    "    Dense(size*size,  activation=tf.nn.softmax)\n",
    "])\n"
   ]
  },
  {
   "cell_type": "code",
   "execution_count": 87,
   "metadata": {},
   "outputs": [],
   "source": [
    "model = Sequential([\n",
    "    Conv2D(128, (9,9), padding='same', activation=tf.nn.relu,\n",
    "                           input_shape=(size, size, 1)),\n",
    "    MaxPooling2D((2, 2), strides=2),\n",
    "    Conv2D(256, (9,9), padding='same', activation=tf.nn.relu), \n",
    "    MaxPooling2D((2, 2), strides=2),\n",
    "    Flatten(),\n",
    "    Dense(130, activation=tf.nn.relu),\n",
    "    Dense(130, activation=tf.nn.relu),\n",
    "    Dense(size*size,  activation=tf.nn.softmax)\n",
    "])\n"
   ]
  },
  {
   "cell_type": "code",
   "execution_count": 88,
   "metadata": {},
   "outputs": [],
   "source": [
    "# tf.keras.utils.plot_model(model, show_shapes=True, dpi=64)\n"
   ]
  },
  {
   "cell_type": "code",
   "execution_count": 9,
   "metadata": {},
   "outputs": [],
   "source": [
    "model.compile(optimizer='adam',\n",
    "              loss='binary_crossentropy',       # categorical_crossentropy\n",
    "              metrics=['accuracy'])"
   ]
  },
  {
   "cell_type": "code",
   "execution_count": 10,
   "metadata": {},
   "outputs": [
    {
     "name": "stdout",
     "output_type": "stream",
     "text": [
      "Epoch 1/300\n",
      "12/12 [==============================] - 31s 19ms/step - loss: 0.0934 - accuracy: 0.0000e+00\n",
      "Epoch 2/300\n",
      "12/12 [==============================] - 0s 8ms/step - loss: 0.0958 - accuracy: 0.0000e+00\n",
      "Epoch 3/300\n",
      "12/12 [==============================] - 0s 7ms/step - loss: 0.1470 - accuracy: 0.0000e+00\n",
      "Epoch 4/300\n",
      "12/12 [==============================] - 0s 7ms/step - loss: 0.1153 - accuracy: 0.0000e+00\n",
      "Epoch 5/300\n",
      "12/12 [==============================] - 0s 7ms/step - loss: 0.1175 - accuracy: 0.0000e+00\n",
      "Epoch 6/300\n",
      "12/12 [==============================] - 0s 7ms/step - loss: 0.0948 - accuracy: 0.0000e+00\n",
      "Epoch 7/300\n",
      "12/12 [==============================] - 0s 8ms/step - loss: 0.0806 - accuracy: 0.0000e+00\n",
      "Epoch 8/300\n",
      "12/12 [==============================] - 0s 7ms/step - loss: 0.1267 - accuracy: 0.0000e+00\n",
      "Epoch 9/300\n",
      "12/12 [==============================] - 0s 7ms/step - loss: 0.1010 - accuracy: 0.0000e+00\n",
      "Epoch 10/300\n",
      "12/12 [==============================] - 0s 7ms/step - loss: 0.1094 - accuracy: 0.0000e+00\n",
      "Epoch 11/300\n",
      "12/12 [==============================] - 0s 7ms/step - loss: 0.1008 - accuracy: 0.0000e+00\n",
      "Epoch 12/300\n",
      "12/12 [==============================] - 0s 7ms/step - loss: 0.1200 - accuracy: 0.0000e+00\n",
      "Epoch 13/300\n",
      "12/12 [==============================] - 0s 7ms/step - loss: 0.0905 - accuracy: 0.0000e+00\n",
      "Epoch 14/300\n",
      "12/12 [==============================] - 0s 8ms/step - loss: 0.0877 - accuracy: 0.0000e+00\n",
      "Epoch 15/300\n",
      "12/12 [==============================] - 0s 7ms/step - loss: 0.0924 - accuracy: 0.0014\n",
      "Epoch 16/300\n",
      "12/12 [==============================] - 0s 7ms/step - loss: 0.0796 - accuracy: 0.0000e+00\n",
      "Epoch 17/300\n",
      "12/12 [==============================] - 0s 8ms/step - loss: 0.1035 - accuracy: 0.0000e+00\n",
      "Epoch 18/300\n",
      "12/12 [==============================] - 0s 8ms/step - loss: 0.0994 - accuracy: 0.0000e+00\n",
      "Epoch 19/300\n",
      "12/12 [==============================] - 0s 7ms/step - loss: 0.1350 - accuracy: 0.0000e+00\n",
      "Epoch 20/300\n",
      "12/12 [==============================] - 0s 8ms/step - loss: 0.1084 - accuracy: 0.0000e+00\n",
      "Epoch 21/300\n",
      "12/12 [==============================] - 0s 7ms/step - loss: 0.1137 - accuracy: 0.0041\n",
      "Epoch 22/300\n",
      "12/12 [==============================] - 0s 7ms/step - loss: 0.0922 - accuracy: 0.0000e+00\n",
      "Epoch 23/300\n",
      "12/12 [==============================] - 0s 7ms/step - loss: 0.1099 - accuracy: 0.0000e+00\n",
      "Epoch 24/300\n",
      "12/12 [==============================] - 0s 8ms/step - loss: 0.0764 - accuracy: 0.0000e+00\n",
      "Epoch 25/300\n",
      "12/12 [==============================] - 0s 8ms/step - loss: 0.0892 - accuracy: 0.0000e+00\n",
      "Epoch 26/300\n",
      "12/12 [==============================] - 0s 8ms/step - loss: 0.1130 - accuracy: 0.0000e+00\n",
      "Epoch 27/300\n",
      "12/12 [==============================] - 0s 8ms/step - loss: 0.0889 - accuracy: 0.0000e+00\n",
      "Epoch 28/300\n",
      "12/12 [==============================] - 0s 8ms/step - loss: 0.1184 - accuracy: 0.0000e+00\n",
      "Epoch 29/300\n",
      "12/12 [==============================] - 0s 7ms/step - loss: 0.0978 - accuracy: 0.0000e+00\n",
      "Epoch 30/300\n",
      "12/12 [==============================] - 0s 8ms/step - loss: 0.0916 - accuracy: 0.0018\n",
      "Epoch 31/300\n",
      "12/12 [==============================] - 0s 7ms/step - loss: 0.0908 - accuracy: 0.0052\n",
      "Epoch 32/300\n",
      "12/12 [==============================] - 0s 7ms/step - loss: 0.1173 - accuracy: 0.0000e+00\n",
      "Epoch 33/300\n",
      "12/12 [==============================] - 0s 7ms/step - loss: 0.0841 - accuracy: 0.0000e+00\n",
      "Epoch 34/300\n",
      "12/12 [==============================] - 0s 7ms/step - loss: 0.1078 - accuracy: 0.0000e+00\n",
      "Epoch 35/300\n",
      "12/12 [==============================] - 0s 8ms/step - loss: 0.0981 - accuracy: 0.0000e+00\n",
      "Epoch 36/300\n",
      "12/12 [==============================] - 0s 7ms/step - loss: 0.0979 - accuracy: 0.0000e+00\n",
      "Epoch 37/300\n",
      "12/12 [==============================] - 0s 7ms/step - loss: 0.1229 - accuracy: 0.0000e+00\n",
      "Epoch 38/300\n",
      "12/12 [==============================] - 0s 8ms/step - loss: 0.0864 - accuracy: 0.0000e+00\n",
      "Epoch 39/300\n",
      "12/12 [==============================] - 0s 7ms/step - loss: 0.0843 - accuracy: 0.0000e+00\n",
      "Epoch 40/300\n",
      "12/12 [==============================] - 0s 8ms/step - loss: 0.0836 - accuracy: 0.0000e+00\n",
      "Epoch 41/300\n",
      "12/12 [==============================] - 0s 7ms/step - loss: 0.0928 - accuracy: 0.0018\n",
      "Epoch 42/300\n",
      "12/12 [==============================] - 0s 8ms/step - loss: 0.1068 - accuracy: 0.0011\n",
      "Epoch 43/300\n",
      "12/12 [==============================] - 0s 7ms/step - loss: 0.0913 - accuracy: 0.0022\n",
      "Epoch 44/300\n",
      "12/12 [==============================] - 0s 8ms/step - loss: 0.1300 - accuracy: 0.0011\n",
      "Epoch 45/300\n",
      "12/12 [==============================] - 0s 7ms/step - loss: 0.1097 - accuracy: 0.0027\n",
      "Epoch 46/300\n",
      "12/12 [==============================] - 0s 8ms/step - loss: 0.0884 - accuracy: 0.0000e+00\n",
      "Epoch 47/300\n",
      "12/12 [==============================] - 0s 7ms/step - loss: 0.0740 - accuracy: 0.0085\n",
      "Epoch 48/300\n",
      "12/12 [==============================] - 0s 8ms/step - loss: 0.0872 - accuracy: 0.0000e+00\n",
      "Epoch 49/300\n",
      "12/12 [==============================] - 0s 7ms/step - loss: 0.0844 - accuracy: 0.0093\n",
      "Epoch 50/300\n",
      "12/12 [==============================] - 0s 7ms/step - loss: 0.0923 - accuracy: 0.0041\n",
      "Epoch 51/300\n",
      "12/12 [==============================] - 0s 7ms/step - loss: 0.1040 - accuracy: 0.0000e+00\n",
      "Epoch 52/300\n",
      "12/12 [==============================] - 0s 8ms/step - loss: 0.1060 - accuracy: 0.0000e+00\n",
      "Epoch 53/300\n",
      "12/12 [==============================] - 0s 7ms/step - loss: 0.0947 - accuracy: 0.0000e+00\n",
      "Epoch 54/300\n",
      "12/12 [==============================] - 0s 7ms/step - loss: 0.0820 - accuracy: 0.0014\n",
      "Epoch 55/300\n",
      "12/12 [==============================] - 0s 7ms/step - loss: 0.1015 - accuracy: 0.0000e+00\n",
      "Epoch 56/300\n",
      "12/12 [==============================] - 0s 8ms/step - loss: 0.0696 - accuracy: 0.0027\n",
      "Epoch 57/300\n",
      "12/12 [==============================] - 0s 7ms/step - loss: 0.0866 - accuracy: 0.0027\n",
      "Epoch 58/300\n",
      "12/12 [==============================] - 0s 7ms/step - loss: 0.1085 - accuracy: 0.0000e+00\n",
      "Epoch 59/300\n",
      "12/12 [==============================] - 0s 7ms/step - loss: 0.0961 - accuracy: 0.0000e+00\n",
      "Epoch 60/300\n",
      "12/12 [==============================] - 0s 8ms/step - loss: 0.0852 - accuracy: 0.0033\n",
      "Epoch 61/300\n",
      "12/12 [==============================] - 0s 8ms/step - loss: 0.1024 - accuracy: 0.0000e+00\n",
      "Epoch 62/300\n",
      "12/12 [==============================] - 0s 7ms/step - loss: 0.1000 - accuracy: 8.6592e-04\n",
      "Epoch 63/300\n",
      "12/12 [==============================] - 0s 8ms/step - loss: 0.0937 - accuracy: 0.0000e+00\n",
      "Epoch 64/300\n",
      "12/12 [==============================] - 0s 8ms/step - loss: 0.0806 - accuracy: 0.0037\n",
      "Epoch 65/300\n",
      "12/12 [==============================] - 0s 7ms/step - loss: 0.1081 - accuracy: 0.0077\n",
      "Epoch 66/300\n",
      "12/12 [==============================] - 0s 7ms/step - loss: 0.1193 - accuracy: 0.0079\n",
      "Epoch 67/300\n",
      "12/12 [==============================] - 0s 7ms/step - loss: 0.0934 - accuracy: 0.0011\n",
      "Epoch 68/300\n",
      "12/12 [==============================] - 0s 7ms/step - loss: 0.0843 - accuracy: 0.0000e+00\n",
      "Epoch 69/300\n",
      "12/12 [==============================] - 0s 7ms/step - loss: 0.1097 - accuracy: 0.0129\n",
      "Epoch 70/300\n",
      "12/12 [==============================] - 0s 7ms/step - loss: 0.0880 - accuracy: 0.0000e+00\n",
      "Epoch 71/300\n",
      "12/12 [==============================] - 0s 7ms/step - loss: 0.1134 - accuracy: 0.0023\n",
      "Epoch 72/300\n",
      "12/12 [==============================] - 0s 7ms/step - loss: 0.0591 - accuracy: 0.0011\n",
      "Epoch 73/300\n",
      "12/12 [==============================] - 0s 7ms/step - loss: 0.1114 - accuracy: 0.0000e+00\n",
      "Epoch 74/300\n",
      "12/12 [==============================] - 0s 7ms/step - loss: 0.0863 - accuracy: 0.0018\n",
      "Epoch 75/300\n",
      "12/12 [==============================] - 0s 8ms/step - loss: 0.0787 - accuracy: 0.0000e+00\n",
      "Epoch 76/300\n",
      "12/12 [==============================] - 0s 7ms/step - loss: 0.1236 - accuracy: 0.0014\n",
      "Epoch 77/300\n",
      "12/12 [==============================] - 0s 7ms/step - loss: 0.0862 - accuracy: 0.0000e+00\n",
      "Epoch 78/300\n",
      "12/12 [==============================] - 0s 8ms/step - loss: 0.0968 - accuracy: 0.0055\n",
      "Epoch 79/300\n",
      "12/12 [==============================] - 0s 7ms/step - loss: 0.0809 - accuracy: 0.0000e+00\n",
      "Epoch 80/300\n"
     ]
    },
    {
     "name": "stdout",
     "output_type": "stream",
     "text": [
      "12/12 [==============================] - 0s 7ms/step - loss: 0.0867 - accuracy: 0.0000e+00\n",
      "Epoch 81/300\n",
      "12/12 [==============================] - 0s 7ms/step - loss: 0.1270 - accuracy: 4.0700e-04\n",
      "Epoch 82/300\n",
      "12/12 [==============================] - 0s 7ms/step - loss: 0.0913 - accuracy: 0.0047\n",
      "Epoch 83/300\n",
      "12/12 [==============================] - 0s 7ms/step - loss: 0.1149 - accuracy: 0.0041\n",
      "Epoch 84/300\n",
      "12/12 [==============================] - 0s 7ms/step - loss: 0.0969 - accuracy: 0.0011\n",
      "Epoch 85/300\n",
      "12/12 [==============================] - 0s 7ms/step - loss: 0.0956 - accuracy: 0.0014\n",
      "Epoch 86/300\n",
      "12/12 [==============================] - 0s 7ms/step - loss: 0.0904 - accuracy: 0.0027\n",
      "Epoch 87/300\n",
      "12/12 [==============================] - 0s 7ms/step - loss: 0.0976 - accuracy: 0.0024\n",
      "Epoch 88/300\n",
      "12/12 [==============================] - 0s 7ms/step - loss: 0.0771 - accuracy: 0.0103\n",
      "Epoch 89/300\n",
      "12/12 [==============================] - 0s 7ms/step - loss: 0.0864 - accuracy: 0.0022\n",
      "Epoch 90/300\n",
      "12/12 [==============================] - 0s 7ms/step - loss: 0.0777 - accuracy: 0.0000e+00\n",
      "Epoch 91/300\n",
      "12/12 [==============================] - 0s 7ms/step - loss: 0.1127 - accuracy: 8.6592e-04\n",
      "Epoch 92/300\n",
      "12/12 [==============================] - 0s 7ms/step - loss: 0.1020 - accuracy: 0.0113\n",
      "Epoch 93/300\n",
      "12/12 [==============================] - 0s 7ms/step - loss: 0.0902 - accuracy: 0.0096\n",
      "Epoch 94/300\n",
      "12/12 [==============================] - 0s 7ms/step - loss: 0.0843 - accuracy: 0.0000e+00\n",
      "Epoch 95/300\n",
      "12/12 [==============================] - 0s 7ms/step - loss: 0.1225 - accuracy: 0.0033\n",
      "Epoch 96/300\n",
      "12/12 [==============================] - 0s 7ms/step - loss: 0.0936 - accuracy: 0.0000e+00\n",
      "Epoch 97/300\n",
      "12/12 [==============================] - 0s 7ms/step - loss: 0.0869 - accuracy: 0.0018\n",
      "Epoch 98/300\n",
      "12/12 [==============================] - 0s 7ms/step - loss: 0.0881 - accuracy: 0.0000e+00\n",
      "Epoch 99/300\n",
      "12/12 [==============================] - 0s 7ms/step - loss: 0.1183 - accuracy: 6.2553e-04\n",
      "Epoch 100/300\n",
      "12/12 [==============================] - 0s 7ms/step - loss: 0.0669 - accuracy: 0.0060\n",
      "Epoch 101/300\n",
      "12/12 [==============================] - 0s 7ms/step - loss: 0.0934 - accuracy: 0.0000e+00\n",
      "Epoch 102/300\n",
      "12/12 [==============================] - 0s 7ms/step - loss: 0.1121 - accuracy: 0.0095\n",
      "Epoch 103/300\n",
      "12/12 [==============================] - 0s 7ms/step - loss: 0.1031 - accuracy: 0.0000e+00\n",
      "Epoch 104/300\n",
      "12/12 [==============================] - 0s 7ms/step - loss: 0.1148 - accuracy: 0.0062\n",
      "Epoch 105/300\n",
      "12/12 [==============================] - 0s 7ms/step - loss: 0.1205 - accuracy: 0.0041\n",
      "Epoch 106/300\n",
      "12/12 [==============================] - 0s 7ms/step - loss: 0.0710 - accuracy: 0.0000e+00\n",
      "Epoch 107/300\n",
      "12/12 [==============================] - 0s 7ms/step - loss: 0.1029 - accuracy: 0.0000e+00\n",
      "Epoch 108/300\n",
      "12/12 [==============================] - 0s 7ms/step - loss: 0.0820 - accuracy: 0.0000e+00\n",
      "Epoch 109/300\n",
      "12/12 [==============================] - 0s 7ms/step - loss: 0.0944 - accuracy: 0.0022\n",
      "Epoch 110/300\n",
      "12/12 [==============================] - 0s 7ms/step - loss: 0.1047 - accuracy: 0.0000e+00\n",
      "Epoch 111/300\n",
      "12/12 [==============================] - 0s 7ms/step - loss: 0.0785 - accuracy: 0.0033\n",
      "Epoch 112/300\n",
      "12/12 [==============================] - 0s 7ms/step - loss: 0.0996 - accuracy: 0.0022\n",
      "Epoch 113/300\n",
      "12/12 [==============================] - 0s 7ms/step - loss: 0.0639 - accuracy: 0.0074\n",
      "Epoch 114/300\n",
      "12/12 [==============================] - 0s 7ms/step - loss: 0.0793 - accuracy: 8.6592e-04\n",
      "Epoch 115/300\n",
      "12/12 [==============================] - 0s 7ms/step - loss: 0.1264 - accuracy: 0.0018\n",
      "Epoch 116/300\n",
      "12/12 [==============================] - 0s 7ms/step - loss: 0.1013 - accuracy: 0.0103\n",
      "Epoch 117/300\n",
      "12/12 [==============================] - 0s 7ms/step - loss: 0.0778 - accuracy: 0.0041\n",
      "Epoch 118/300\n",
      "12/12 [==============================] - 0s 7ms/step - loss: 0.0924 - accuracy: 0.0103\n",
      "Epoch 119/300\n",
      "12/12 [==============================] - 0s 7ms/step - loss: 0.0987 - accuracy: 0.0011\n",
      "Epoch 120/300\n",
      "12/12 [==============================] - 0s 7ms/step - loss: 0.0859 - accuracy: 0.0132\n",
      "Epoch 121/300\n",
      "12/12 [==============================] - 0s 7ms/step - loss: 0.1131 - accuracy: 0.0022\n",
      "Epoch 122/300\n",
      "12/12 [==============================] - 0s 7ms/step - loss: 0.1254 - accuracy: 0.0036\n",
      "Epoch 123/300\n",
      "12/12 [==============================] - 0s 7ms/step - loss: 0.0814 - accuracy: 0.0023\n",
      "Epoch 124/300\n",
      "12/12 [==============================] - 0s 7ms/step - loss: 0.0903 - accuracy: 0.0073\n",
      "Epoch 125/300\n",
      "12/12 [==============================] - 0s 7ms/step - loss: 0.1241 - accuracy: 0.0029\n",
      "Epoch 126/300\n",
      "12/12 [==============================] - 0s 7ms/step - loss: 0.0863 - accuracy: 0.0045\n",
      "Epoch 127/300\n",
      "12/12 [==============================] - 0s 7ms/step - loss: 0.0836 - accuracy: 6.2553e-04\n",
      "Epoch 128/300\n",
      "12/12 [==============================] - 0s 8ms/step - loss: 0.1209 - accuracy: 0.0044\n",
      "Epoch 129/300\n",
      "12/12 [==============================] - 0s 7ms/step - loss: 0.0882 - accuracy: 0.0044\n",
      "Epoch 130/300\n",
      "12/12 [==============================] - 0s 7ms/step - loss: 0.1072 - accuracy: 0.0033\n",
      "Epoch 131/300\n",
      "12/12 [==============================] - 0s 7ms/step - loss: 0.1091 - accuracy: 0.0051\n",
      "Epoch 132/300\n",
      "12/12 [==============================] - 0s 7ms/step - loss: 0.0741 - accuracy: 0.0041\n",
      "Epoch 133/300\n",
      "12/12 [==============================] - 0s 7ms/step - loss: 0.1030 - accuracy: 0.0098\n",
      "Epoch 134/300\n",
      "12/12 [==============================] - 0s 7ms/step - loss: 0.1182 - accuracy: 0.0041\n",
      "Epoch 135/300\n",
      "12/12 [==============================] - 0s 7ms/step - loss: 0.0550 - accuracy: 8.6592e-04\n",
      "Epoch 136/300\n",
      "12/12 [==============================] - 0s 7ms/step - loss: 0.1369 - accuracy: 6.2553e-04\n",
      "Epoch 137/300\n",
      "12/12 [==============================] - 0s 7ms/step - loss: 0.1292 - accuracy: 0.0028\n",
      "Epoch 138/300\n",
      "12/12 [==============================] - 0s 7ms/step - loss: 0.0919 - accuracy: 0.0000e+00\n",
      "Epoch 139/300\n",
      "12/12 [==============================] - 0s 7ms/step - loss: 0.0831 - accuracy: 0.0114\n",
      "Epoch 140/300\n",
      "12/12 [==============================] - 0s 7ms/step - loss: 0.0844 - accuracy: 0.0077\n",
      "Epoch 141/300\n",
      "12/12 [==============================] - 0s 7ms/step - loss: 0.1163 - accuracy: 0.0000e+00\n",
      "Epoch 142/300\n",
      "12/12 [==============================] - 0s 7ms/step - loss: 0.0836 - accuracy: 0.0000e+00\n",
      "Epoch 143/300\n",
      "12/12 [==============================] - 0s 7ms/step - loss: 0.1186 - accuracy: 0.0099\n",
      "Epoch 144/300\n",
      "12/12 [==============================] - 0s 7ms/step - loss: 0.0689 - accuracy: 0.0053\n",
      "Epoch 145/300\n",
      "12/12 [==============================] - 0s 7ms/step - loss: 0.0887 - accuracy: 0.0000e+00\n",
      "Epoch 146/300\n",
      "12/12 [==============================] - 0s 7ms/step - loss: 0.1119 - accuracy: 0.0011\n",
      "Epoch 147/300\n",
      "12/12 [==============================] - 0s 7ms/step - loss: 0.1004 - accuracy: 0.0000e+00\n",
      "Epoch 148/300\n",
      "12/12 [==============================] - 0s 7ms/step - loss: 0.1234 - accuracy: 0.0027\n",
      "Epoch 149/300\n",
      "12/12 [==============================] - 0s 7ms/step - loss: 0.0894 - accuracy: 0.0000e+00\n",
      "Epoch 150/300\n",
      "12/12 [==============================] - 0s 7ms/step - loss: 0.0871 - accuracy: 0.0000e+00\n",
      "Epoch 151/300\n",
      "12/12 [==============================] - 0s 7ms/step - loss: 0.0733 - accuracy: 0.0027  \n",
      "Epoch 152/300\n",
      "12/12 [==============================] - 0s 9ms/step - loss: 0.0852 - accuracy: 0.0026\n",
      "Epoch 153/300\n",
      "12/12 [==============================] - 0s 7ms/step - loss: 0.0977 - accuracy: 0.0041\n",
      "Epoch 154/300\n",
      "12/12 [==============================] - 0s 7ms/step - loss: 0.1165 - accuracy: 0.0000e+00\n",
      "Epoch 155/300\n",
      "12/12 [==============================] - 0s 7ms/step - loss: 0.0953 - accuracy: 0.0012\n",
      "Epoch 156/300\n",
      "12/12 [==============================] - 0s 7ms/step - loss: 0.1072 - accuracy: 0.0073\n",
      "Epoch 157/300\n",
      "12/12 [==============================] - 0s 7ms/step - loss: 0.0749 - accuracy: 0.0000e+00\n",
      "Epoch 158/300\n",
      "12/12 [==============================] - 0s 7ms/step - loss: 0.0963 - accuracy: 0.0000e+00\n",
      "Epoch 159/300\n",
      "12/12 [==============================] - 0s 7ms/step - loss: 0.1137 - accuracy: 0.0167\n",
      "Epoch 160/300\n"
     ]
    },
    {
     "name": "stdout",
     "output_type": "stream",
     "text": [
      "12/12 [==============================] - 0s 7ms/step - loss: 0.0759 - accuracy: 0.0022\n",
      "Epoch 161/300\n",
      "12/12 [==============================] - 0s 7ms/step - loss: 0.0763 - accuracy: 0.0027\n",
      "Epoch 162/300\n",
      "12/12 [==============================] - 0s 7ms/step - loss: 0.0635 - accuracy: 0.0027\n",
      "Epoch 163/300\n",
      "12/12 [==============================] - 0s 7ms/step - loss: 0.0868 - accuracy: 8.6592e-04\n",
      "Epoch 164/300\n",
      "12/12 [==============================] - 0s 7ms/step - loss: 0.0698 - accuracy: 0.0000e+00\n",
      "Epoch 165/300\n",
      "12/12 [==============================] - 0s 7ms/step - loss: 0.0685 - accuracy: 0.0018\n",
      "Epoch 166/300\n",
      "12/12 [==============================] - 0s 7ms/step - loss: 0.0934 - accuracy: 0.0109\n",
      "Epoch 167/300\n",
      "12/12 [==============================] - 0s 7ms/step - loss: 0.0831 - accuracy: 0.0000e+00\n",
      "Epoch 168/300\n",
      "12/12 [==============================] - 0s 7ms/step - loss: 0.0970 - accuracy: 8.1400e-04\n",
      "Epoch 169/300\n",
      "12/12 [==============================] - 0s 7ms/step - loss: 0.0889 - accuracy: 0.0014\n",
      "Epoch 170/300\n",
      "12/12 [==============================] - 0s 7ms/step - loss: 0.0865 - accuracy: 0.0118\n",
      "Epoch 171/300\n",
      "12/12 [==============================] - 0s 7ms/step - loss: 0.0636 - accuracy: 0.0121\n",
      "Epoch 172/300\n",
      "12/12 [==============================] - 0s 7ms/step - loss: 0.0552 - accuracy: 0.0038\n",
      "Epoch 173/300\n",
      "12/12 [==============================] - 0s 7ms/step - loss: 0.0809 - accuracy: 0.0026\n",
      "Epoch 174/300\n",
      "12/12 [==============================] - 0s 7ms/step - loss: 0.1022 - accuracy: 0.0027\n",
      "Epoch 175/300\n",
      "12/12 [==============================] - 0s 7ms/step - loss: 0.1027 - accuracy: 8.6592e-04\n",
      "Epoch 176/300\n",
      "12/12 [==============================] - 0s 7ms/step - loss: 0.0897 - accuracy: 0.0033\n",
      "Epoch 177/300\n",
      "12/12 [==============================] - 0s 7ms/step - loss: 0.1138 - accuracy: 0.0033\n",
      "Epoch 178/300\n",
      "12/12 [==============================] - 0s 8ms/step - loss: 0.0885 - accuracy: 6.2553e-04\n",
      "Epoch 179/300\n",
      "12/12 [==============================] - 0s 7ms/step - loss: 0.0855 - accuracy: 0.0000e+00\n",
      "Epoch 180/300\n",
      "12/12 [==============================] - 0s 7ms/step - loss: 0.0583 - accuracy: 0.0041\n",
      "Epoch 181/300\n",
      "12/12 [==============================] - 0s 8ms/step - loss: 0.0838 - accuracy: 0.0044\n",
      "Epoch 182/300\n",
      "12/12 [==============================] - 0s 8ms/step - loss: 0.1194 - accuracy: 0.0022\n",
      "Epoch 183/300\n",
      "12/12 [==============================] - 0s 7ms/step - loss: 0.0871 - accuracy: 0.0136\n",
      "Epoch 184/300\n",
      "12/12 [==============================] - 0s 7ms/step - loss: 0.1380 - accuracy: 0.0051\n",
      "Epoch 185/300\n",
      "12/12 [==============================] - 0s 7ms/step - loss: 0.1129 - accuracy: 0.0071\n",
      "Epoch 186/300\n",
      "12/12 [==============================] - 0s 8ms/step - loss: 0.0998 - accuracy: 0.0077\n",
      "Epoch 187/300\n",
      "12/12 [==============================] - 0s 7ms/step - loss: 0.0589 - accuracy: 0.0028\n",
      "Epoch 188/300\n",
      "12/12 [==============================] - 0s 7ms/step - loss: 0.0998 - accuracy: 0.0041\n",
      "Epoch 189/300\n",
      "12/12 [==============================] - 0s 7ms/step - loss: 0.0780 - accuracy: 0.0041  \n",
      "Epoch 190/300\n",
      "12/12 [==============================] - 0s 7ms/step - loss: 0.0705 - accuracy: 4.0700e-04\n",
      "Epoch 191/300\n",
      "12/12 [==============================] - 0s 7ms/step - loss: 0.1076 - accuracy: 0.0000e+00\n",
      "Epoch 192/300\n",
      "12/12 [==============================] - 0s 7ms/step - loss: 0.0717 - accuracy: 0.0033\n",
      "Epoch 193/300\n",
      "12/12 [==============================] - 0s 7ms/step - loss: 0.0788 - accuracy: 0.0053\n",
      "Epoch 194/300\n",
      "12/12 [==============================] - 0s 7ms/step - loss: 0.0766 - accuracy: 0.0040\n",
      "Epoch 195/300\n",
      "12/12 [==============================] - 0s 7ms/step - loss: 0.0927 - accuracy: 0.0022\n",
      "Epoch 196/300\n",
      "12/12 [==============================] - 0s 7ms/step - loss: 0.0874 - accuracy: 0.0027\n",
      "Epoch 197/300\n",
      "12/12 [==============================] - 0s 8ms/step - loss: 0.0628 - accuracy: 0.0000e+00\n",
      "Epoch 198/300\n",
      " 1/12 [=>............................] - ETA: 0s - loss: 0.1458 - accuracy: 0.0000e+00"
     ]
    },
    {
     "ename": "KeyboardInterrupt",
     "evalue": "",
     "output_type": "error",
     "traceback": [
      "\u001b[0;31m---------------------------------------------------------------------------\u001b[0m",
      "\u001b[0;31mKeyboardInterrupt\u001b[0m                         Traceback (most recent call last)",
      "\u001b[0;32m<ipython-input-10-26a430be7bc4>\u001b[0m in \u001b[0;36m<module>\u001b[0;34m\u001b[0m\n\u001b[0;32m----> 1\u001b[0;31m \u001b[0mhis\u001b[0m \u001b[0;34m=\u001b[0m \u001b[0mmodel\u001b[0m\u001b[0;34m.\u001b[0m\u001b[0mfit\u001b[0m\u001b[0;34m(\u001b[0m\u001b[0mtrain\u001b[0m\u001b[0;34m,\u001b[0m \u001b[0mtarget\u001b[0m\u001b[0;34m,\u001b[0m \u001b[0mepochs\u001b[0m\u001b[0;34m=\u001b[0m\u001b[0;36m300\u001b[0m\u001b[0;34m)\u001b[0m\u001b[0;34m\u001b[0m\u001b[0;34m\u001b[0m\u001b[0m\n\u001b[0m",
      "\u001b[0;32m~/anaconda3/lib/python3.8/site-packages/keras/engine/training.py\u001b[0m in \u001b[0;36mfit\u001b[0;34m(self, x, y, batch_size, epochs, verbose, callbacks, validation_split, validation_data, shuffle, class_weight, sample_weight, initial_epoch, steps_per_epoch, validation_steps, validation_batch_size, validation_freq, max_queue_size, workers, use_multiprocessing)\u001b[0m\n\u001b[1;32m   1141\u001b[0m               \u001b[0mlogs\u001b[0m \u001b[0;34m=\u001b[0m \u001b[0mtmp_logs\u001b[0m  \u001b[0;31m# No error, now safe to assign to logs.\u001b[0m\u001b[0;34m\u001b[0m\u001b[0;34m\u001b[0m\u001b[0m\n\u001b[1;32m   1142\u001b[0m               \u001b[0mend_step\u001b[0m \u001b[0;34m=\u001b[0m \u001b[0mstep\u001b[0m \u001b[0;34m+\u001b[0m \u001b[0mdata_handler\u001b[0m\u001b[0;34m.\u001b[0m\u001b[0mstep_increment\u001b[0m\u001b[0;34m\u001b[0m\u001b[0;34m\u001b[0m\u001b[0m\n\u001b[0;32m-> 1143\u001b[0;31m               \u001b[0mcallbacks\u001b[0m\u001b[0;34m.\u001b[0m\u001b[0mon_train_batch_end\u001b[0m\u001b[0;34m(\u001b[0m\u001b[0mend_step\u001b[0m\u001b[0;34m,\u001b[0m \u001b[0mlogs\u001b[0m\u001b[0;34m)\u001b[0m\u001b[0;34m\u001b[0m\u001b[0;34m\u001b[0m\u001b[0m\n\u001b[0m\u001b[1;32m   1144\u001b[0m               \u001b[0;32mif\u001b[0m \u001b[0mself\u001b[0m\u001b[0;34m.\u001b[0m\u001b[0mstop_training\u001b[0m\u001b[0;34m:\u001b[0m\u001b[0;34m\u001b[0m\u001b[0;34m\u001b[0m\u001b[0m\n\u001b[1;32m   1145\u001b[0m                 \u001b[0;32mbreak\u001b[0m\u001b[0;34m\u001b[0m\u001b[0;34m\u001b[0m\u001b[0m\n",
      "\u001b[0;32m~/anaconda3/lib/python3.8/site-packages/keras/callbacks.py\u001b[0m in \u001b[0;36mon_train_batch_end\u001b[0;34m(self, batch, logs)\u001b[0m\n\u001b[1;32m    437\u001b[0m     \"\"\"\n\u001b[1;32m    438\u001b[0m     \u001b[0;32mif\u001b[0m \u001b[0mself\u001b[0m\u001b[0;34m.\u001b[0m\u001b[0m_should_call_train_batch_hooks\u001b[0m\u001b[0;34m:\u001b[0m\u001b[0;34m\u001b[0m\u001b[0;34m\u001b[0m\u001b[0m\n\u001b[0;32m--> 439\u001b[0;31m       \u001b[0mself\u001b[0m\u001b[0;34m.\u001b[0m\u001b[0m_call_batch_hook\u001b[0m\u001b[0;34m(\u001b[0m\u001b[0mModeKeys\u001b[0m\u001b[0;34m.\u001b[0m\u001b[0mTRAIN\u001b[0m\u001b[0;34m,\u001b[0m \u001b[0;34m'end'\u001b[0m\u001b[0;34m,\u001b[0m \u001b[0mbatch\u001b[0m\u001b[0;34m,\u001b[0m \u001b[0mlogs\u001b[0m\u001b[0;34m=\u001b[0m\u001b[0mlogs\u001b[0m\u001b[0;34m)\u001b[0m\u001b[0;34m\u001b[0m\u001b[0;34m\u001b[0m\u001b[0m\n\u001b[0m\u001b[1;32m    440\u001b[0m \u001b[0;34m\u001b[0m\u001b[0m\n\u001b[1;32m    441\u001b[0m   \u001b[0;32mdef\u001b[0m \u001b[0mon_test_batch_begin\u001b[0m\u001b[0;34m(\u001b[0m\u001b[0mself\u001b[0m\u001b[0;34m,\u001b[0m \u001b[0mbatch\u001b[0m\u001b[0;34m,\u001b[0m \u001b[0mlogs\u001b[0m\u001b[0;34m=\u001b[0m\u001b[0;32mNone\u001b[0m\u001b[0;34m)\u001b[0m\u001b[0;34m:\u001b[0m\u001b[0;34m\u001b[0m\u001b[0;34m\u001b[0m\u001b[0m\n",
      "\u001b[0;32m~/anaconda3/lib/python3.8/site-packages/keras/callbacks.py\u001b[0m in \u001b[0;36m_call_batch_hook\u001b[0;34m(self, mode, hook, batch, logs)\u001b[0m\n\u001b[1;32m    279\u001b[0m       \u001b[0mself\u001b[0m\u001b[0;34m.\u001b[0m\u001b[0m_call_batch_begin_hook\u001b[0m\u001b[0;34m(\u001b[0m\u001b[0mmode\u001b[0m\u001b[0;34m,\u001b[0m \u001b[0mbatch\u001b[0m\u001b[0;34m,\u001b[0m \u001b[0mlogs\u001b[0m\u001b[0;34m)\u001b[0m\u001b[0;34m\u001b[0m\u001b[0;34m\u001b[0m\u001b[0m\n\u001b[1;32m    280\u001b[0m     \u001b[0;32melif\u001b[0m \u001b[0mhook\u001b[0m \u001b[0;34m==\u001b[0m \u001b[0;34m'end'\u001b[0m\u001b[0;34m:\u001b[0m\u001b[0;34m\u001b[0m\u001b[0;34m\u001b[0m\u001b[0m\n\u001b[0;32m--> 281\u001b[0;31m       \u001b[0mself\u001b[0m\u001b[0;34m.\u001b[0m\u001b[0m_call_batch_end_hook\u001b[0m\u001b[0;34m(\u001b[0m\u001b[0mmode\u001b[0m\u001b[0;34m,\u001b[0m \u001b[0mbatch\u001b[0m\u001b[0;34m,\u001b[0m \u001b[0mlogs\u001b[0m\u001b[0;34m)\u001b[0m\u001b[0;34m\u001b[0m\u001b[0;34m\u001b[0m\u001b[0m\n\u001b[0m\u001b[1;32m    282\u001b[0m     \u001b[0;32melse\u001b[0m\u001b[0;34m:\u001b[0m\u001b[0;34m\u001b[0m\u001b[0;34m\u001b[0m\u001b[0m\n\u001b[1;32m    283\u001b[0m       \u001b[0;32mraise\u001b[0m \u001b[0mValueError\u001b[0m\u001b[0;34m(\u001b[0m\u001b[0;34m'Unrecognized hook: {}'\u001b[0m\u001b[0;34m.\u001b[0m\u001b[0mformat\u001b[0m\u001b[0;34m(\u001b[0m\u001b[0mhook\u001b[0m\u001b[0;34m)\u001b[0m\u001b[0;34m)\u001b[0m\u001b[0;34m\u001b[0m\u001b[0;34m\u001b[0m\u001b[0m\n",
      "\u001b[0;32m~/anaconda3/lib/python3.8/site-packages/keras/callbacks.py\u001b[0m in \u001b[0;36m_call_batch_end_hook\u001b[0;34m(self, mode, batch, logs)\u001b[0m\n\u001b[1;32m    299\u001b[0m       \u001b[0mself\u001b[0m\u001b[0;34m.\u001b[0m\u001b[0m_batch_times\u001b[0m\u001b[0;34m.\u001b[0m\u001b[0mappend\u001b[0m\u001b[0;34m(\u001b[0m\u001b[0mbatch_time\u001b[0m\u001b[0;34m)\u001b[0m\u001b[0;34m\u001b[0m\u001b[0;34m\u001b[0m\u001b[0m\n\u001b[1;32m    300\u001b[0m \u001b[0;34m\u001b[0m\u001b[0m\n\u001b[0;32m--> 301\u001b[0;31m     \u001b[0mself\u001b[0m\u001b[0;34m.\u001b[0m\u001b[0m_call_batch_hook_helper\u001b[0m\u001b[0;34m(\u001b[0m\u001b[0mhook_name\u001b[0m\u001b[0;34m,\u001b[0m \u001b[0mbatch\u001b[0m\u001b[0;34m,\u001b[0m \u001b[0mlogs\u001b[0m\u001b[0;34m)\u001b[0m\u001b[0;34m\u001b[0m\u001b[0;34m\u001b[0m\u001b[0m\n\u001b[0m\u001b[1;32m    302\u001b[0m \u001b[0;34m\u001b[0m\u001b[0m\n\u001b[1;32m    303\u001b[0m     \u001b[0;32mif\u001b[0m \u001b[0mlen\u001b[0m\u001b[0;34m(\u001b[0m\u001b[0mself\u001b[0m\u001b[0;34m.\u001b[0m\u001b[0m_batch_times\u001b[0m\u001b[0;34m)\u001b[0m \u001b[0;34m>=\u001b[0m \u001b[0mself\u001b[0m\u001b[0;34m.\u001b[0m\u001b[0m_num_batches_for_timing_check\u001b[0m\u001b[0;34m:\u001b[0m\u001b[0;34m\u001b[0m\u001b[0;34m\u001b[0m\u001b[0m\n",
      "\u001b[0;32m~/anaconda3/lib/python3.8/site-packages/keras/callbacks.py\u001b[0m in \u001b[0;36m_call_batch_hook_helper\u001b[0;34m(self, hook_name, batch, logs)\u001b[0m\n\u001b[1;32m    339\u001b[0m       \u001b[0mhook\u001b[0m \u001b[0;34m=\u001b[0m \u001b[0mgetattr\u001b[0m\u001b[0;34m(\u001b[0m\u001b[0mcallback\u001b[0m\u001b[0;34m,\u001b[0m \u001b[0mhook_name\u001b[0m\u001b[0;34m)\u001b[0m\u001b[0;34m\u001b[0m\u001b[0;34m\u001b[0m\u001b[0m\n\u001b[1;32m    340\u001b[0m       \u001b[0;32mif\u001b[0m \u001b[0mgetattr\u001b[0m\u001b[0;34m(\u001b[0m\u001b[0mcallback\u001b[0m\u001b[0;34m,\u001b[0m \u001b[0;34m'_supports_tf_logs'\u001b[0m\u001b[0;34m,\u001b[0m \u001b[0;32mFalse\u001b[0m\u001b[0;34m)\u001b[0m\u001b[0;34m:\u001b[0m\u001b[0;34m\u001b[0m\u001b[0;34m\u001b[0m\u001b[0m\n\u001b[0;32m--> 341\u001b[0;31m         \u001b[0mhook\u001b[0m\u001b[0;34m(\u001b[0m\u001b[0mbatch\u001b[0m\u001b[0;34m,\u001b[0m \u001b[0mlogs\u001b[0m\u001b[0;34m)\u001b[0m\u001b[0;34m\u001b[0m\u001b[0;34m\u001b[0m\u001b[0m\n\u001b[0m\u001b[1;32m    342\u001b[0m       \u001b[0;32melse\u001b[0m\u001b[0;34m:\u001b[0m\u001b[0;34m\u001b[0m\u001b[0;34m\u001b[0m\u001b[0m\n\u001b[1;32m    343\u001b[0m         \u001b[0;32mif\u001b[0m \u001b[0mnumpy_logs\u001b[0m \u001b[0;32mis\u001b[0m \u001b[0;32mNone\u001b[0m\u001b[0;34m:\u001b[0m  \u001b[0;31m# Only convert once.\u001b[0m\u001b[0;34m\u001b[0m\u001b[0;34m\u001b[0m\u001b[0m\n",
      "\u001b[0;32m~/anaconda3/lib/python3.8/site-packages/keras/callbacks.py\u001b[0m in \u001b[0;36mon_train_batch_end\u001b[0;34m(self, batch, logs)\u001b[0m\n\u001b[1;32m   1025\u001b[0m \u001b[0;34m\u001b[0m\u001b[0m\n\u001b[1;32m   1026\u001b[0m   \u001b[0;32mdef\u001b[0m \u001b[0mon_train_batch_end\u001b[0m\u001b[0;34m(\u001b[0m\u001b[0mself\u001b[0m\u001b[0;34m,\u001b[0m \u001b[0mbatch\u001b[0m\u001b[0;34m,\u001b[0m \u001b[0mlogs\u001b[0m\u001b[0;34m=\u001b[0m\u001b[0;32mNone\u001b[0m\u001b[0;34m)\u001b[0m\u001b[0;34m:\u001b[0m\u001b[0;34m\u001b[0m\u001b[0;34m\u001b[0m\u001b[0m\n\u001b[0;32m-> 1027\u001b[0;31m     \u001b[0mself\u001b[0m\u001b[0;34m.\u001b[0m\u001b[0m_batch_update_progbar\u001b[0m\u001b[0;34m(\u001b[0m\u001b[0mbatch\u001b[0m\u001b[0;34m,\u001b[0m \u001b[0mlogs\u001b[0m\u001b[0;34m)\u001b[0m\u001b[0;34m\u001b[0m\u001b[0;34m\u001b[0m\u001b[0m\n\u001b[0m\u001b[1;32m   1028\u001b[0m \u001b[0;34m\u001b[0m\u001b[0m\n\u001b[1;32m   1029\u001b[0m   \u001b[0;32mdef\u001b[0m \u001b[0mon_test_batch_end\u001b[0m\u001b[0;34m(\u001b[0m\u001b[0mself\u001b[0m\u001b[0;34m,\u001b[0m \u001b[0mbatch\u001b[0m\u001b[0;34m,\u001b[0m \u001b[0mlogs\u001b[0m\u001b[0;34m=\u001b[0m\u001b[0;32mNone\u001b[0m\u001b[0;34m)\u001b[0m\u001b[0;34m:\u001b[0m\u001b[0;34m\u001b[0m\u001b[0;34m\u001b[0m\u001b[0m\n",
      "\u001b[0;32m~/anaconda3/lib/python3.8/site-packages/keras/callbacks.py\u001b[0m in \u001b[0;36m_batch_update_progbar\u001b[0;34m(self, batch, logs)\u001b[0m\n\u001b[1;32m   1089\u001b[0m     \u001b[0;32mif\u001b[0m \u001b[0mself\u001b[0m\u001b[0;34m.\u001b[0m\u001b[0mverbose\u001b[0m \u001b[0;34m==\u001b[0m \u001b[0;36m1\u001b[0m\u001b[0;34m:\u001b[0m\u001b[0;34m\u001b[0m\u001b[0;34m\u001b[0m\u001b[0m\n\u001b[1;32m   1090\u001b[0m       \u001b[0;31m# Only block async when verbose = 1.\u001b[0m\u001b[0;34m\u001b[0m\u001b[0;34m\u001b[0m\u001b[0;34m\u001b[0m\u001b[0m\n\u001b[0;32m-> 1091\u001b[0;31m       \u001b[0mlogs\u001b[0m \u001b[0;34m=\u001b[0m \u001b[0mtf_utils\u001b[0m\u001b[0;34m.\u001b[0m\u001b[0mto_numpy_or_python_type\u001b[0m\u001b[0;34m(\u001b[0m\u001b[0mlogs\u001b[0m\u001b[0;34m)\u001b[0m\u001b[0;34m\u001b[0m\u001b[0;34m\u001b[0m\u001b[0m\n\u001b[0m\u001b[1;32m   1092\u001b[0m       \u001b[0mself\u001b[0m\u001b[0;34m.\u001b[0m\u001b[0mprogbar\u001b[0m\u001b[0;34m.\u001b[0m\u001b[0mupdate\u001b[0m\u001b[0;34m(\u001b[0m\u001b[0mself\u001b[0m\u001b[0;34m.\u001b[0m\u001b[0mseen\u001b[0m\u001b[0;34m,\u001b[0m \u001b[0mlist\u001b[0m\u001b[0;34m(\u001b[0m\u001b[0mlogs\u001b[0m\u001b[0;34m.\u001b[0m\u001b[0mitems\u001b[0m\u001b[0;34m(\u001b[0m\u001b[0;34m)\u001b[0m\u001b[0;34m)\u001b[0m\u001b[0;34m,\u001b[0m \u001b[0mfinalize\u001b[0m\u001b[0;34m=\u001b[0m\u001b[0;32mFalse\u001b[0m\u001b[0;34m)\u001b[0m\u001b[0;34m\u001b[0m\u001b[0;34m\u001b[0m\u001b[0m\n\u001b[1;32m   1093\u001b[0m \u001b[0;34m\u001b[0m\u001b[0m\n",
      "\u001b[0;32m~/anaconda3/lib/python3.8/site-packages/keras/utils/tf_utils.py\u001b[0m in \u001b[0;36mto_numpy_or_python_type\u001b[0;34m(tensors)\u001b[0m\n\u001b[1;32m    502\u001b[0m     \u001b[0;32mreturn\u001b[0m \u001b[0mt\u001b[0m  \u001b[0;31m# Don't turn ragged or sparse tensors to NumPy.\u001b[0m\u001b[0;34m\u001b[0m\u001b[0;34m\u001b[0m\u001b[0m\n\u001b[1;32m    503\u001b[0m \u001b[0;34m\u001b[0m\u001b[0m\n\u001b[0;32m--> 504\u001b[0;31m   \u001b[0;32mreturn\u001b[0m \u001b[0mtf\u001b[0m\u001b[0;34m.\u001b[0m\u001b[0mnest\u001b[0m\u001b[0;34m.\u001b[0m\u001b[0mmap_structure\u001b[0m\u001b[0;34m(\u001b[0m\u001b[0m_to_single_numpy_or_python_type\u001b[0m\u001b[0;34m,\u001b[0m \u001b[0mtensors\u001b[0m\u001b[0;34m)\u001b[0m\u001b[0;34m\u001b[0m\u001b[0;34m\u001b[0m\u001b[0m\n\u001b[0m\u001b[1;32m    505\u001b[0m \u001b[0;34m\u001b[0m\u001b[0m\n\u001b[1;32m    506\u001b[0m \u001b[0;34m\u001b[0m\u001b[0m\n",
      "\u001b[0;32m~/anaconda3/lib/python3.8/site-packages/tensorflow/python/util/nest.py\u001b[0m in \u001b[0;36mmap_structure\u001b[0;34m(func, *structure, **kwargs)\u001b[0m\n\u001b[1;32m    865\u001b[0m \u001b[0;34m\u001b[0m\u001b[0m\n\u001b[1;32m    866\u001b[0m   return pack_sequence_as(\n\u001b[0;32m--> 867\u001b[0;31m       \u001b[0mstructure\u001b[0m\u001b[0;34m[\u001b[0m\u001b[0;36m0\u001b[0m\u001b[0;34m]\u001b[0m\u001b[0;34m,\u001b[0m \u001b[0;34m[\u001b[0m\u001b[0mfunc\u001b[0m\u001b[0;34m(\u001b[0m\u001b[0;34m*\u001b[0m\u001b[0mx\u001b[0m\u001b[0;34m)\u001b[0m \u001b[0;32mfor\u001b[0m \u001b[0mx\u001b[0m \u001b[0;32min\u001b[0m \u001b[0mentries\u001b[0m\u001b[0;34m]\u001b[0m\u001b[0;34m,\u001b[0m\u001b[0;34m\u001b[0m\u001b[0;34m\u001b[0m\u001b[0m\n\u001b[0m\u001b[1;32m    868\u001b[0m       expand_composites=expand_composites)\n\u001b[1;32m    869\u001b[0m \u001b[0;34m\u001b[0m\u001b[0m\n",
      "\u001b[0;32m~/anaconda3/lib/python3.8/site-packages/tensorflow/python/util/nest.py\u001b[0m in \u001b[0;36m<listcomp>\u001b[0;34m(.0)\u001b[0m\n\u001b[1;32m    865\u001b[0m \u001b[0;34m\u001b[0m\u001b[0m\n\u001b[1;32m    866\u001b[0m   return pack_sequence_as(\n\u001b[0;32m--> 867\u001b[0;31m       \u001b[0mstructure\u001b[0m\u001b[0;34m[\u001b[0m\u001b[0;36m0\u001b[0m\u001b[0;34m]\u001b[0m\u001b[0;34m,\u001b[0m \u001b[0;34m[\u001b[0m\u001b[0mfunc\u001b[0m\u001b[0;34m(\u001b[0m\u001b[0;34m*\u001b[0m\u001b[0mx\u001b[0m\u001b[0;34m)\u001b[0m \u001b[0;32mfor\u001b[0m \u001b[0mx\u001b[0m \u001b[0;32min\u001b[0m \u001b[0mentries\u001b[0m\u001b[0;34m]\u001b[0m\u001b[0;34m,\u001b[0m\u001b[0;34m\u001b[0m\u001b[0;34m\u001b[0m\u001b[0m\n\u001b[0m\u001b[1;32m    868\u001b[0m       expand_composites=expand_composites)\n\u001b[1;32m    869\u001b[0m \u001b[0;34m\u001b[0m\u001b[0m\n",
      "\u001b[0;32m~/anaconda3/lib/python3.8/site-packages/keras/utils/tf_utils.py\u001b[0m in \u001b[0;36m_to_single_numpy_or_python_type\u001b[0;34m(t)\u001b[0m\n\u001b[1;32m    498\u001b[0m   \u001b[0;32mdef\u001b[0m \u001b[0m_to_single_numpy_or_python_type\u001b[0m\u001b[0;34m(\u001b[0m\u001b[0mt\u001b[0m\u001b[0;34m)\u001b[0m\u001b[0;34m:\u001b[0m\u001b[0;34m\u001b[0m\u001b[0;34m\u001b[0m\u001b[0m\n\u001b[1;32m    499\u001b[0m     \u001b[0;32mif\u001b[0m \u001b[0misinstance\u001b[0m\u001b[0;34m(\u001b[0m\u001b[0mt\u001b[0m\u001b[0;34m,\u001b[0m \u001b[0mtf\u001b[0m\u001b[0;34m.\u001b[0m\u001b[0mTensor\u001b[0m\u001b[0;34m)\u001b[0m\u001b[0;34m:\u001b[0m\u001b[0;34m\u001b[0m\u001b[0;34m\u001b[0m\u001b[0m\n\u001b[0;32m--> 500\u001b[0;31m       \u001b[0mx\u001b[0m \u001b[0;34m=\u001b[0m \u001b[0mt\u001b[0m\u001b[0;34m.\u001b[0m\u001b[0mnumpy\u001b[0m\u001b[0;34m(\u001b[0m\u001b[0;34m)\u001b[0m\u001b[0;34m\u001b[0m\u001b[0;34m\u001b[0m\u001b[0m\n\u001b[0m\u001b[1;32m    501\u001b[0m       \u001b[0;32mreturn\u001b[0m \u001b[0mx\u001b[0m\u001b[0;34m.\u001b[0m\u001b[0mitem\u001b[0m\u001b[0;34m(\u001b[0m\u001b[0;34m)\u001b[0m \u001b[0;32mif\u001b[0m \u001b[0mnp\u001b[0m\u001b[0;34m.\u001b[0m\u001b[0mndim\u001b[0m\u001b[0;34m(\u001b[0m\u001b[0mx\u001b[0m\u001b[0;34m)\u001b[0m \u001b[0;34m==\u001b[0m \u001b[0;36m0\u001b[0m \u001b[0;32melse\u001b[0m \u001b[0mx\u001b[0m\u001b[0;34m\u001b[0m\u001b[0;34m\u001b[0m\u001b[0m\n\u001b[1;32m    502\u001b[0m     \u001b[0;32mreturn\u001b[0m \u001b[0mt\u001b[0m  \u001b[0;31m# Don't turn ragged or sparse tensors to NumPy.\u001b[0m\u001b[0;34m\u001b[0m\u001b[0;34m\u001b[0m\u001b[0m\n",
      "\u001b[0;32m~/anaconda3/lib/python3.8/site-packages/tensorflow/python/framework/ops.py\u001b[0m in \u001b[0;36mnumpy\u001b[0;34m(self)\u001b[0m\n\u001b[1;32m   1092\u001b[0m     \"\"\"\n\u001b[1;32m   1093\u001b[0m     \u001b[0;31m# TODO(slebedev): Consider avoiding a copy for non-CPU or remote tensors.\u001b[0m\u001b[0;34m\u001b[0m\u001b[0;34m\u001b[0m\u001b[0;34m\u001b[0m\u001b[0m\n\u001b[0;32m-> 1094\u001b[0;31m     \u001b[0mmaybe_arr\u001b[0m \u001b[0;34m=\u001b[0m \u001b[0mself\u001b[0m\u001b[0;34m.\u001b[0m\u001b[0m_numpy\u001b[0m\u001b[0;34m(\u001b[0m\u001b[0;34m)\u001b[0m  \u001b[0;31m# pylint: disable=protected-access\u001b[0m\u001b[0;34m\u001b[0m\u001b[0;34m\u001b[0m\u001b[0m\n\u001b[0m\u001b[1;32m   1095\u001b[0m     \u001b[0;32mreturn\u001b[0m \u001b[0mmaybe_arr\u001b[0m\u001b[0;34m.\u001b[0m\u001b[0mcopy\u001b[0m\u001b[0;34m(\u001b[0m\u001b[0;34m)\u001b[0m \u001b[0;32mif\u001b[0m \u001b[0misinstance\u001b[0m\u001b[0;34m(\u001b[0m\u001b[0mmaybe_arr\u001b[0m\u001b[0;34m,\u001b[0m \u001b[0mnp\u001b[0m\u001b[0;34m.\u001b[0m\u001b[0mndarray\u001b[0m\u001b[0;34m)\u001b[0m \u001b[0;32melse\u001b[0m \u001b[0mmaybe_arr\u001b[0m\u001b[0;34m\u001b[0m\u001b[0;34m\u001b[0m\u001b[0m\n\u001b[1;32m   1096\u001b[0m \u001b[0;34m\u001b[0m\u001b[0m\n",
      "\u001b[0;32m~/anaconda3/lib/python3.8/site-packages/tensorflow/python/framework/ops.py\u001b[0m in \u001b[0;36m_numpy\u001b[0;34m(self)\u001b[0m\n\u001b[1;32m   1058\u001b[0m   \u001b[0;32mdef\u001b[0m \u001b[0m_numpy\u001b[0m\u001b[0;34m(\u001b[0m\u001b[0mself\u001b[0m\u001b[0;34m)\u001b[0m\u001b[0;34m:\u001b[0m\u001b[0;34m\u001b[0m\u001b[0;34m\u001b[0m\u001b[0m\n\u001b[1;32m   1059\u001b[0m     \u001b[0;32mtry\u001b[0m\u001b[0;34m:\u001b[0m\u001b[0;34m\u001b[0m\u001b[0;34m\u001b[0m\u001b[0m\n\u001b[0;32m-> 1060\u001b[0;31m       \u001b[0;32mreturn\u001b[0m \u001b[0mself\u001b[0m\u001b[0;34m.\u001b[0m\u001b[0m_numpy_internal\u001b[0m\u001b[0;34m(\u001b[0m\u001b[0;34m)\u001b[0m\u001b[0;34m\u001b[0m\u001b[0;34m\u001b[0m\u001b[0m\n\u001b[0m\u001b[1;32m   1061\u001b[0m     \u001b[0;32mexcept\u001b[0m \u001b[0mcore\u001b[0m\u001b[0;34m.\u001b[0m\u001b[0m_NotOkStatusException\u001b[0m \u001b[0;32mas\u001b[0m \u001b[0me\u001b[0m\u001b[0;34m:\u001b[0m  \u001b[0;31m# pylint: disable=protected-access\u001b[0m\u001b[0;34m\u001b[0m\u001b[0;34m\u001b[0m\u001b[0m\n\u001b[1;32m   1062\u001b[0m       \u001b[0msix\u001b[0m\u001b[0;34m.\u001b[0m\u001b[0mraise_from\u001b[0m\u001b[0;34m(\u001b[0m\u001b[0mcore\u001b[0m\u001b[0;34m.\u001b[0m\u001b[0m_status_to_exception\u001b[0m\u001b[0;34m(\u001b[0m\u001b[0me\u001b[0m\u001b[0;34m.\u001b[0m\u001b[0mcode\u001b[0m\u001b[0;34m,\u001b[0m \u001b[0me\u001b[0m\u001b[0;34m.\u001b[0m\u001b[0mmessage\u001b[0m\u001b[0;34m)\u001b[0m\u001b[0;34m,\u001b[0m \u001b[0;32mNone\u001b[0m\u001b[0;34m)\u001b[0m  \u001b[0;31m# pylint: disable=protected-access\u001b[0m\u001b[0;34m\u001b[0m\u001b[0;34m\u001b[0m\u001b[0m\n",
      "\u001b[0;31mKeyboardInterrupt\u001b[0m: "
     ]
    }
   ],
   "source": [
    "his = model.fit(train, target, epochs=300)"
   ]
  },
  {
   "cell_type": "code",
   "execution_count": null,
   "metadata": {},
   "outputs": [],
   "source": [
    "\n"
   ]
  },
  {
   "cell_type": "code",
   "execution_count": 40,
   "metadata": {},
   "outputs": [],
   "source": [
    "# his.history"
   ]
  },
  {
   "cell_type": "code",
   "execution_count": null,
   "metadata": {},
   "outputs": [],
   "source": []
  },
  {
   "cell_type": "code",
   "execution_count": 12,
   "metadata": {},
   "outputs": [],
   "source": [
    "test_index = 32"
   ]
  },
  {
   "cell_type": "code",
   "execution_count": 26,
   "metadata": {},
   "outputs": [
    {
     "data": {
      "image/png": "[encoded data removed]",
      "text/plain": [
       "<Figure size 864x432 with 3 Axes>"
      ]
     },
     "metadata": {
      "needs_background": "light"
     },
     "output_type": "display_data"
    },
    {
     "name": "stdout",
     "output_type": "stream",
     "text": [
      "prediction max value =  0.024703778\n",
      "prediction min value =  2.728938e-12\n",
      "prediction mean value =  0.0009765624\n"
     ]
    }
   ],
   "source": [
    "b = np.reshape(train[test_index], (1, size, size, 1))\n",
    "prediction = model.predict(b) \n",
    "prediction = np.reshape(prediction, (size, size)) \n",
    "\n",
    "train_img = np.reshape(train[test_index], (size, size)) \n",
    "target_img = np.reshape(target[test_index], (size, size)) \n",
    "\n",
    "fig, axes = plt.subplots(1, 3)\n",
    "\n",
    "axes[0].imshow(train_img)\n",
    "axes[0].set_title('train')\n",
    "\n",
    "axes[1].imshow(target_img)\n",
    "axes[1].set_title('target')\n",
    "\n",
    "axes[2].imshow(prediction)\n",
    "axes[2].set_title('prediction')\n",
    "\n",
    "fig.set_figwidth(12)    #  ширина и\n",
    "fig.set_figheight(6)    #  высота \"Figure\"\n",
    "plt.show()\n",
    "print(\"prediction max value = \", prediction.max())\n",
    "print(\"prediction min value = \", prediction.min())\n",
    "print(\"prediction mean value = \", prediction.mean())"
   ]
  },
  {
   "cell_type": "code",
   "execution_count": 96,
   "metadata": {},
   "outputs": [
    {
     "data": {
      "text/plain": [
       "4.0536766"
      ]
     },
     "execution_count": 96,
     "metadata": {},
     "output_type": "execute_result"
    }
   ],
   "source": [
    " (prediction*1000).max()"
   ]
  },
  {
   "cell_type": "code",
   "execution_count": null,
   "metadata": {},
   "outputs": [],
   "source": []
  },
  {
   "cell_type": "code",
   "execution_count": 76,
   "metadata": {},
   "outputs": [
    {
     "data": {
      "text/plain": [
       "<matplotlib.image.AxesImage at 0x7f4dd0400f10>"
      ]
     },
     "execution_count": 76,
     "metadata": {},
     "output_type": "execute_result"
    },
    {
     "data": {
      "image/png": "[encoded data removed]",
      "text/plain": [
       "<Figure size 432x288 with 1 Axes>"
      ]
     },
     "metadata": {
      "needs_background": "light"
     },
     "output_type": "display_data"
    }
   ],
   "source": [
    "img = Image.new('L', (size*train_size[0], size*train_size[1]))\n",
    "\n",
    "for i in tqdm(range(train_size[0])):\n",
    "    for j in range(train_size[1]):\n",
    "\n",
    "        train_img = np.reshape(train[i * train_size[1] + j], (size, size)) \n",
    "        a = train_img.astype('uint8') \n",
    "        img1 =  Image.fromarray(a)\n",
    "        img.paste(img1, (i*size, j*size))\n",
    "        \n",
    "img.save(\"2.png\")\n",
    "plt.imshow(img) "
   ]
  },
  {
   "cell_type": "code",
   "execution_count": 129,
   "metadata": {},
   "outputs": [
    {
     "name": "stderr",
     "output_type": "stream",
     "text": [
      "100%|██████████| 27/27 [00:15<00:00,  1.76it/s]\n"
     ]
    },
    {
     "data": {
      "text/plain": [
       "<matplotlib.image.AxesImage at 0x7fef00fae730>"
      ]
     },
     "execution_count": 129,
     "metadata": {},
     "output_type": "execute_result"
    },
    {
     "data": {
      "image/png": "[encoded data removed]",
      "text/plain": [
       "<Figure size 432x288 with 1 Axes>"
      ]
     },
     "metadata": {
      "needs_background": "light"
     },
     "output_type": "display_data"
    }
   ],
   "source": [
    "img = Image.new('L', (size*train_size[0], size*train_size[1]))\n",
    "\n",
    "for i in tqdm(range(train_size[0])):\n",
    "    for j in range(train_size[1]):\n",
    "\n",
    "        b = np.reshape(train[i * train_size[1] + j], (1, size, size, 1))\n",
    "        prediction = model.predict(b)\n",
    "        prediction = prediction * 10000\n",
    "        \n",
    "        train_img = np.reshape(prediction, (size, size)) \n",
    "        a = train_img.astype('uint8') \n",
    "        img1 =  Image.fromarray(a)\n",
    "        img.paste(img1, (i*size, j*size))\n",
    "        \n",
    "\n",
    "plt.imshow(img) \n",
    "# img.save(\"9.png\")"
   ]
  },
  {
   "cell_type": "code",
   "execution_count": null,
   "metadata": {},
   "outputs": [],
   "source": []
  },
  {
   "cell_type": "code",
   "execution_count": null,
   "metadata": {},
   "outputs": [],
   "source": []
  },
  {
   "cell_type": "code",
   "execution_count": null,
   "metadata": {},
   "outputs": [],
   "source": []
  },
  {
   "cell_type": "code",
   "execution_count": 26,
   "metadata": {},
   "outputs": [
    {
     "name": "stdout",
     "output_type": "stream",
     "text": [
      "[[1.1317295e-09 5.2061274e-08 6.8524901e-07 ... 4.2793651e-08\n",
      "  1.8844513e-07 7.1384704e-08]\n",
      " [1.1396277e-08 2.8596627e-08 3.2344158e-07 ... 2.6575032e-08\n",
      "  4.8888474e-08 4.6598196e-09]\n",
      " [3.1485685e-09 2.5167264e-08 2.2362080e-08 ... 2.2740403e-07\n",
      "  2.9930806e-07 1.2725336e-07]\n",
      " ...\n",
      " [2.8482857e-06 2.0997115e-06 1.7216238e-06 ... 1.2906146e-05\n",
      "  7.5013650e-06 9.0720559e-06]\n",
      " [7.6661464e-03 7.4512274e-03 1.2095799e-06 ... 6.9532134e-06\n",
      "  9.9646077e-06 9.5794658e-06]\n",
      " [7.6260320e-03 7.4983542e-03 7.5413492e-03 ... 7.0676970e-06\n",
      "  5.2254068e-06 6.1871892e-06]]\n"
     ]
    }
   ],
   "source": [
    "print(prediction)"
   ]
  },
  {
   "cell_type": "code",
   "execution_count": 17,
   "metadata": {},
   "outputs": [
    {
     "name": "stdout",
     "output_type": "stream",
     "text": [
      "31\n"
     ]
    }
   ],
   "source": [
    "i = 0\n",
    "# поиск индекса картинки с маской = 1\n",
    "while (target[i].max() < 1):\n",
    "    i+=1\n",
    "print(i)"
   ]
  },
  {
   "cell_type": "code",
   "execution_count": null,
   "metadata": {},
   "outputs": [],
   "source": []
  },
  {
   "cell_type": "code",
   "execution_count": null,
   "metadata": {},
   "outputs": [],
   "source": []
  },
  {
   "cell_type": "code",
   "execution_count": null,
   "metadata": {},
   "outputs": [],
   "source": []
  },
  {
   "cell_type": "code",
   "execution_count": 130,
   "metadata": {},
   "outputs": [],
   "source": [
    "model_name = \"model_inp=32_e=30000\""
   ]
  },
  {
   "cell_type": "code",
   "execution_count": null,
   "metadata": {},
   "outputs": [],
   "source": [
    " "
   ]
  },
  {
   "cell_type": "code",
   "execution_count": 131,
   "metadata": {},
   "outputs": [],
   "source": [
    "path = f'models/1/{model_name}.h5'\n",
    "model.save(path)  "
   ]
  },
  {
   "cell_type": "code",
   "execution_count": null,
   "metadata": {},
   "outputs": [],
   "source": []
  },
  {
   "cell_type": "code",
   "execution_count": 63,
   "metadata": {},
   "outputs": [],
   "source": [
    "path = f'models/1/{model_name}.h5'\n",
    "model = tf.keras.models.load_model(path)"
   ]
  },
  {
   "cell_type": "code",
   "execution_count": null,
   "metadata": {},
   "outputs": [],
   "source": []
  }
 ],
 "metadata": {
  "kernelspec": {
   "display_name": "Python 3",
   "language": "python",
   "name": "python3"
  },
  "language_info": {
   "codemirror_mode": {
    "name": "ipython",
    "version": 3
   },
   "file_extension": ".py",
   "mimetype": "text/x-python",
   "name": "python",
   "nbconvert_exporter": "python",
   "pygments_lexer": "ipython3",
   "version": "3.8.5"
  }
 },
 "nbformat": 4,
 "nbformat_minor": 4
}
